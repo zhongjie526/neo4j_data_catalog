{
 "cells": [
  {
   "cell_type": "code",
   "execution_count": 45,
   "id": "575f43ae",
   "metadata": {},
   "outputs": [],
   "source": [
    "from neo4j import GraphDatabase\n",
    "\n",
    "\n",
    "# Configure Neo4j connection settings\n",
    "neo4j_url = \"bolt://localhost:7691\"\n",
    "neo4j_user = \"neo4j\"\n",
    "neo4j_password = \"Quant8314\"\n",
    "\n",
    "# Create a Neo4j driver\n",
    "driver = GraphDatabase.driver(neo4j_url, auth=(neo4j_user, neo4j_password),database=\"test\")"
   ]
  },
  {
   "cell_type": "code",
   "execution_count": 46,
   "id": "eda91886",
   "metadata": {},
   "outputs": [
    {
     "name": "stdout",
     "output_type": "stream",
     "text": [
      "GDS Versoin: 2.3.3\n"
     ]
    }
   ],
   "source": [
    "from graphdatascience import GraphDataScience\n",
    "\n",
    "gds = GraphDataScience(\"neo4j://localhost:7691\",auth=(\"neo4j\",\"Quant8314\"),database=\"test\")\n",
    "\n",
    "print(f\"GDS Versoin: {gds.version()}\")"
   ]
  },
  {
   "cell_type": "code",
   "execution_count": 67,
   "id": "4f6f4bf9",
   "metadata": {},
   "outputs": [
    {
     "data": {
      "text/html": [
       "<div>\n",
       "<style scoped>\n",
       "    .dataframe tbody tr th:only-of-type {\n",
       "        vertical-align: middle;\n",
       "    }\n",
       "\n",
       "    .dataframe tbody tr th {\n",
       "        vertical-align: top;\n",
       "    }\n",
       "\n",
       "    .dataframe thead th {\n",
       "        text-align: right;\n",
       "    }\n",
       "</style>\n",
       "<table border=\"1\" class=\"dataframe\">\n",
       "  <thead>\n",
       "    <tr style=\"text-align: right;\">\n",
       "      <th></th>\n",
       "    </tr>\n",
       "  </thead>\n",
       "  <tbody>\n",
       "  </tbody>\n",
       "</table>\n",
       "</div>"
      ],
      "text/plain": [
       "Empty DataFrame\n",
       "Columns: []\n",
       "Index: []"
      ]
     },
     "execution_count": 67,
     "metadata": {},
     "output_type": "execute_result"
    }
   ],
   "source": [
    "gds.run_cypher(\"MATCH (n) DETACH DELETE n;\")\n",
    "gds.run_cypher(\"create constraint datasource_unique if not exists for (n:Datasource) require n.name is unique;\")\n",
    "gds.run_cypher(\"create constraint table_unique if not exists for (n:Table) require n.name is unique;\")\n",
    "gds.run_cypher(\"create constraint owner_unique if not exists for (n:Owner) require n.name is unique;\")\n",
    "gds.run_cypher(\"create constraint role_unique if not exists for (n:Role) require n.name is unique;\")"
   ]
  },
  {
   "cell_type": "code",
   "execution_count": 68,
   "id": "71575171",
   "metadata": {},
   "outputs": [
    {
     "data": {
      "text/html": [
       "<div>\n",
       "<style scoped>\n",
       "    .dataframe tbody tr th:only-of-type {\n",
       "        vertical-align: middle;\n",
       "    }\n",
       "\n",
       "    .dataframe tbody tr th {\n",
       "        vertical-align: top;\n",
       "    }\n",
       "\n",
       "    .dataframe thead th {\n",
       "        text-align: right;\n",
       "    }\n",
       "</style>\n",
       "<table border=\"1\" class=\"dataframe\">\n",
       "  <thead>\n",
       "    <tr style=\"text-align: right;\">\n",
       "      <th></th>\n",
       "    </tr>\n",
       "  </thead>\n",
       "  <tbody>\n",
       "  </tbody>\n",
       "</table>\n",
       "</div>"
      ],
      "text/plain": [
       "Empty DataFrame\n",
       "Columns: []\n",
       "Index: []"
      ]
     },
     "execution_count": 68,
     "metadata": {},
     "output_type": "execute_result"
    }
   ],
   "source": [
    "gds.run_cypher(\n",
    "\"\"\"\n",
    "merge (d1:Datasource {name:'BookShop Transactional'})\n",
    "merge (d2:Datasource {name:'KDS Clickstream'})\n",
    "merge (d3:Datasource {name:'User Transactions'})\n",
    "merge (d4:Datasource {name:'Insurance Policies'})\n",
    "merge (t1:Table:Dataset {name:'dim_countries'})\n",
    "merge (t2:Table:Dataset {name:'customer_tier_sbx'})\n",
    "merge (t3:KafkaTopic:Dataset {name:'kds_clickstream',namespace:'Messaging'})\n",
    "merge (t4:KafkaTopic:Dataset {name:'user_transactions_west',namespace:'Messaging'})\n",
    "merge (t5:Table:Dataset {name:'t_contract_master'})\n",
    "merge (t6:Table:Dataset {name:'DM_Policy_Agent_Risk_Detail'})\n",
    "merge (o1:Owner {name:'Data Engineer'})\n",
    "merge (o2:Owner {name:'Data Product'})\n",
    "merge (o3:Owner {name:'Data Science Engineer'})\n",
    "merge (o4:Owner {name:'Data Platform Engineer'})\n",
    "merge (o5:Owner {name:'Life Insurance'})\n",
    "merge (u1:User {name:'Maruthi Skybey'})\n",
    "merge (u2:User {name:'Lokanathan Skybey'})\n",
    "merge (u3:User {name:'Tom Hardy'})\n",
    "merge (u4:User {name:'James Tan'})\n",
    "merge (u5:User {name:'Sam Chia'})\n",
    "merge (t1)-[:IS_OWNED]->(o1)\n",
    "merge (t1)-[:IS_OWNED]->(o2)\n",
    "merge (t1)-[:IS_OWNED]->(o3)\n",
    "merge (t2)-[:IS_OWNED]->(o2)\n",
    "merge (t3)-[:IS_OWNED]->(o3)\n",
    "merge (t4)-[:IS_OWNED]->(o4)\n",
    "merge (t5)-[:IS_OWNED]->(o5)\n",
    "merge (t5)-[:IS_OWNED]->(o5)\n",
    "merge (t1)-[:FROM_SOURCE]->(d1)\n",
    "merge (t2)-[:FROM_SOURCE]->(d1)\n",
    "merge (t3)-[:FROM_SOURCE]->(d2)\n",
    "merge (t4)-[:FROM_SOURCE]->(d3)\n",
    "merge (t5)-[:FROM_SOURCE]->(d4)\n",
    "merge (t6)-[:FROM_SOURCE]->(d4)\n",
    "merge (t1)-[:HAS_COLUMN]->(:Column {name:'country_full_name',type:'pk'})\n",
    "merge (t1)-[:HAS_COLUMN]->(:Column {name:'country_iso2_cd'})\n",
    "merge (t1)-[:HAS_COLUMN]->(:Column {name:'country_iso3_cd'})\n",
    "merge (t2)-[:HAS_COLUMN]->(:Column {name:'customer_id',type:'pk'})\n",
    "merge (t2)-[:HAS_COLUMN]->(:Column {name:'tier_id'})\n",
    "merge (t2)-[:HAS_COLUMN]->(:Column {name:'tier_nm'})\n",
    "merge (t2)-[:HAS_COLUMN]->(:Column {name:'experiment_id'})\n",
    "merge (t2)-[:HAS_COLUMN]->(:Column {name:'rundate_tmst'})\n",
    "merge (t4)-[:HAS_COLUMN]->(:Column {name:'id',type:'pk'})\n",
    "merge (t4)-[:HAS_COLUMN]->(:Column {name:'amount'})\n",
    "merge (t4)-[:HAS_COLUMN]->(:Column {name:'description'})\n",
    "merge (t4)-[:HAS_COLUMN]->(:Column {name:'created_at'})\n",
    "merge (t4)-[:HAS_COLUMN]->(:Column {name:'active'})\n",
    "merge (t5)-[:HAS_COLUMN]->(:Column {name:'policy_id',type:'sk'})<-[:FROM_SOURCE]-(:Column {name:'Policy_id'})<-[:HAS_COLUMN]-(t6)\n",
    "merge (t5)-[:HAS_COLUMN]->(:Column {name:'policy_code'})<-[:FROM_SOURCE]-(:Column {name:'Policy_Number'})<-[:HAS_COLUMN]-(t6)\n",
    "merge (tgtCol)-[:FROM_SOURCE]->(srcCol)\n",
    "merge (u1)-[:HAS_ROLE {type:'Administrator'}]->(t1)\n",
    "merge (u1)-[:HAS_ROLE {type:'Developer'}]->(t2)\n",
    "merge (u2)-[:HAS_ROLE {type:'Viewer'}]->(t1)\n",
    "merge (u2)-[:HAS_ROLE {type:'Administrator'}]->(t2)\n",
    "merge (u1)-[:PART_OF {type:'Team Lead'}]->(o1)\n",
    "merge (u2)-[:PART_OF {type:'Project Manager'}]->(o1)\n",
    "merge (u1)-[:PART_OF {type:'Team Member'}]->(o2)\n",
    "merge (u2)-[:PART_OF {type:'Technical Lead'}]->(o2)\n",
    "merge (u3)-[:PART_OF {type:'Team Member'}]->(o3)\n",
    "merge (u3)-[:PART_OF {type:'Data Scientist'}]->(o4)\n",
    "merge (u4)-[:PART_OF {type:'Data Engineer'}]->(o4)\n",
    "merge (u4)-[:PART_OF {type:'Data Engineer'}]->(o2)\n",
    "merge (u3)-[:PART_OF {type:'Data Engineer'}]->(o1)\n",
    "\"\"\"\n",
    ")"
   ]
  },
  {
   "cell_type": "code",
   "execution_count": 63,
   "id": "398eb27e",
   "metadata": {},
   "outputs": [
    {
     "name": "stdout",
     "output_type": "stream",
     "text": [
      "Policy_Number\n",
      "DM_Policy_Agent_Risk_Detail\n",
      "Insurance Policies\n"
     ]
    }
   ],
   "source": [
    "cypher_query = \"match p=((c:Column {name:'Policy_Number'})-[:HAS_COLUMN*]-(d:Dataset)--(s:Datasource)) return p\"\n",
    "# cypher_query = \"match p=((c:Column {name:'Policy_Number'})-[*]-(s:Datasource)) return p\"\n",
    "\n",
    "# Execute the Cypher query and print out the returned paths\n",
    "with driver.session() as session:\n",
    "    result = session.run(cypher_query)\n",
    "    for record in result:\n",
    "        path = record[\"p\"]\n",
    "        \n",
    "        for node in path.nodes:\n",
    "            print(node['name'])\n",
    "        \n",
    "\n",
    "driver.close()"
   ]
  },
  {
   "cell_type": "markdown",
   "id": "667a6785",
   "metadata": {},
   "source": [
    "``Check Data Lineage``"
   ]
  },
  {
   "cell_type": "code",
   "execution_count": 64,
   "id": "9b91daca",
   "metadata": {},
   "outputs": [
    {
     "data": {
      "image/png": "[encoded data removed]",
      "text/plain": [
       "<Figure size 432x288 with 1 Axes>"
      ]
     },
     "metadata": {},
     "output_type": "display_data"
    }
   ],
   "source": [
    "import networkx as nx\n",
    "import matplotlib.pyplot as plt\n",
    "\n",
    "graph = nx.Graph()\n",
    "\n",
    "for node in path.nodes:\n",
    "    graph.add_node(node['name'], label=node[\"label\"])  # Adjust the property key used for node labeling as per your data\n",
    "\n",
    "for rel in path.relationships:\n",
    "    graph.add_edge(rel.start_node['name'], rel.end_node['name'], label=rel.type)  # Adjust the property key used for relationship labeling as per your data\n",
    "\n",
    "# Visualize the graph using Matplotlib\n",
    "pos = nx.spring_layout(graph)\n",
    "labels = nx.get_node_attributes(graph, \"label\")\n",
    "edge_labels = nx.get_edge_attributes(graph, \"label\")\n",
    "\n",
    "nx.draw(graph, pos, with_labels=True, node_color=\"lightblue\", node_size=500, font_size=10)\n",
    "nx.draw_networkx_edge_labels(graph, pos, edge_labels=edge_labels)\n",
    "\n",
    "# Show the graph\n",
    "plt.show()\n"
   ]
  },
  {
   "cell_type": "markdown",
   "id": "f75ab559",
   "metadata": {},
   "source": [
    "## Finding Critical Data Assets by Degree Centrality"
   ]
  },
  {
   "cell_type": "markdown",
   "id": "683f960a",
   "metadata": {},
   "source": [
    "**Degree Centrality measures the number of connections or relationships a node has in a graph. In the context of data quality analysis, you can use Degree Centrality to identify metadata elements (nodes) that have a high number of relationships, indicating their significance or importance in the data ecosystem. Nodes with high Degree Centrality may represent critical tables, columns, or data entities that require careful attention and quality assessment.**"
   ]
  },
  {
   "cell_type": "code",
   "execution_count": 71,
   "id": "370db3e5",
   "metadata": {},
   "outputs": [
    {
     "data": {
      "text/html": [
       "<div>\n",
       "<style scoped>\n",
       "    .dataframe tbody tr th:only-of-type {\n",
       "        vertical-align: middle;\n",
       "    }\n",
       "\n",
       "    .dataframe tbody tr th {\n",
       "        vertical-align: top;\n",
       "    }\n",
       "\n",
       "    .dataframe thead th {\n",
       "        text-align: right;\n",
       "    }\n",
       "</style>\n",
       "<table border=\"1\" class=\"dataframe\">\n",
       "  <thead>\n",
       "    <tr style=\"text-align: right;\">\n",
       "      <th></th>\n",
       "      <th>name</th>\n",
       "      <th>owners</th>\n",
       "    </tr>\n",
       "  </thead>\n",
       "  <tbody>\n",
       "    <tr>\n",
       "      <th>0</th>\n",
       "      <td>dim_countries</td>\n",
       "      <td>3.0</td>\n",
       "    </tr>\n",
       "    <tr>\n",
       "      <th>1</th>\n",
       "      <td>Data Product</td>\n",
       "      <td>2.0</td>\n",
       "    </tr>\n",
       "    <tr>\n",
       "      <th>2</th>\n",
       "      <td>t_contract_master</td>\n",
       "      <td>1.0</td>\n",
       "    </tr>\n",
       "    <tr>\n",
       "      <th>3</th>\n",
       "      <td>customer_tier_sbx</td>\n",
       "      <td>1.0</td>\n",
       "    </tr>\n",
       "    <tr>\n",
       "      <th>4</th>\n",
       "      <td>Life Insurance</td>\n",
       "      <td>1.0</td>\n",
       "    </tr>\n",
       "    <tr>\n",
       "      <th>5</th>\n",
       "      <td>Data Science Engineer</td>\n",
       "      <td>1.0</td>\n",
       "    </tr>\n",
       "    <tr>\n",
       "      <th>6</th>\n",
       "      <td>Data Engineer</td>\n",
       "      <td>1.0</td>\n",
       "    </tr>\n",
       "    <tr>\n",
       "      <th>7</th>\n",
       "      <td>Data Platform Engineer</td>\n",
       "      <td>0.0</td>\n",
       "    </tr>\n",
       "    <tr>\n",
       "      <th>8</th>\n",
       "      <td>DM_Policy_Agent_Risk_Detail</td>\n",
       "      <td>0.0</td>\n",
       "    </tr>\n",
       "  </tbody>\n",
       "</table>\n",
       "</div>"
      ],
      "text/plain": [
       "                          name  owners\n",
       "0                dim_countries     3.0\n",
       "1                 Data Product     2.0\n",
       "2            t_contract_master     1.0\n",
       "3            customer_tier_sbx     1.0\n",
       "4               Life Insurance     1.0\n",
       "5        Data Science Engineer     1.0\n",
       "6                Data Engineer     1.0\n",
       "7       Data Platform Engineer     0.0\n",
       "8  DM_Policy_Agent_Risk_Detail     0.0"
      ]
     },
     "execution_count": 71,
     "metadata": {},
     "output_type": "execute_result"
    }
   ],
   "source": [
    "gds.run_cypher(\"\"\"\n",
    "\n",
    "CALL gds.graph.drop('myGraph',false) YIELD graphName;\n",
    "\"\"\")\n",
    "\n",
    "gds.run_cypher(\"\"\"\n",
    "CALL gds.graph.project(\n",
    "  'myGraph',\n",
    "  ['Table','Owner'],\n",
    "  {\n",
    "    IS_OWNED: {\n",
    "      orientation: 'UNDIRECTED'\n",
    "    }\n",
    "  }\n",
    ")\n",
    "\"\"\")\n",
    "\n",
    "gds.run_cypher(\"\"\"\n",
    "CALL gds.degree.stream('myGraph')\n",
    "YIELD nodeId, score\n",
    "RETURN gds.util.asNode(nodeId).name AS name, score AS owners\n",
    "ORDER BY owners DESC, name DESC\n",
    "\"\"\")\n"
   ]
  },
  {
   "cell_type": "markdown",
   "id": "cd4f0379",
   "metadata": {},
   "source": []
  }
 ],
 "metadata": {
  "kernelspec": {
   "display_name": "Python 3",
   "language": "python",
   "name": "python3"
  },
  "language_info": {
   "codemirror_mode": {
    "name": "ipython",
    "version": 3
   },
   "file_extension": ".py",
   "mimetype": "text/x-python",
   "name": "python",
   "nbconvert_exporter": "python",
   "pygments_lexer": "ipython3",
   "version": "3.7.16"
  }
 },
 "nbformat": 4,
 "nbformat_minor": 5
}
