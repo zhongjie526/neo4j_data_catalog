{
 "cells": [
  {
   "cell_type": "code",
   "execution_count": 50,
   "id": "575f43ae",
   "metadata": {
    "scrolled": true
   },
   "outputs": [
    {
     "name": "stdout",
     "output_type": "stream",
     "text": [
      "GDS Versoin: 2.3.3\n"
     ]
    }
   ],
   "source": [
    "from neo4j import GraphDatabase\n",
    "from graphdatascience import GraphDataScience\n",
    "\n",
    "# Configure Neo4j connection settings\n",
    "neo4j_url = \"neo4j+ssc://34.126.85.60:7687\"\n",
    "neo4j_user = \"neo4j\"\n",
    "neo4j_password = \"neo4j123\"\n",
    "neo4j_db = \"neo4j\"\n",
    "\n",
    "# Create a Neo4j driver and GDS driver\n",
    "driver = GraphDatabase.driver(neo4j_url, auth=(neo4j_user, neo4j_password),database=neo4j_db)\n",
    "gds = GraphDataScience(neo4j_url,auth=(neo4j_user,neo4j_password),database=neo4j_db)\n",
    "\n",
    "print(f\"GDS Versoin: {gds.version()}\")"
   ]
  },
  {
   "cell_type": "code",
   "execution_count": 51,
   "id": "7c608ac4",
   "metadata": {
    "scrolled": false
   },
   "outputs": [
    {
     "data": {
      "text/html": [
       "<div>\n",
       "<style scoped>\n",
       "    .dataframe tbody tr th:only-of-type {\n",
       "        vertical-align: middle;\n",
       "    }\n",
       "\n",
       "    .dataframe tbody tr th {\n",
       "        vertical-align: top;\n",
       "    }\n",
       "\n",
       "    .dataframe thead th {\n",
       "        text-align: right;\n",
       "    }\n",
       "</style>\n",
       "<table border=\"1\" class=\"dataframe\">\n",
       "  <thead>\n",
       "    <tr style=\"text-align: right;\">\n",
       "      <th></th>\n",
       "    </tr>\n",
       "  </thead>\n",
       "  <tbody>\n",
       "  </tbody>\n",
       "</table>\n",
       "</div>"
      ],
      "text/plain": [
       "Empty DataFrame\n",
       "Columns: []\n",
       "Index: []"
      ]
     },
     "execution_count": 51,
     "metadata": {},
     "output_type": "execute_result"
    }
   ],
   "source": [
    "data_location = 'https://raw.githubusercontent.com/zhongjie526/neo4j_data_catalog/master/data/'\n",
    "\n",
    "gds.run_cypher(\"MATCH (n) DETACH DELETE n;\")\n",
    "gds.run_cypher(\"CREATE CONSTRAINT imp_uniq_tbl_name IF NOT EXISTS FOR (n: Table) REQUIRE (n.name) IS UNIQUE;\")\n",
    "gds.run_cypher(\"CREATE CONSTRAINT imp_uniq_ds_name IF NOT EXISTS FOR (n: Datasource) REQUIRE (n.name) IS UNIQUE;\")\n",
    "gds.run_cypher(\"CREATE CONSTRAINT imp_uniq_col_name IF NOT EXISTS FOR (n: Column) REQUIRE (n.name) IS UNIQUE;\")\n",
    "gds.run_cypher(\"CREATE CONSTRAINT imp_uniq_team_name IF NOT EXISTS FOR (n: Team) REQUIRE (n.name) IS UNIQUE;\")\n",
    "gds.run_cypher(\"CREATE CONSTRAINT imp_uniq_user_name IF NOT EXISTS FOR (n: User) REQUIRE (n.name) IS UNIQUE;\")\n",
    "\n",
    "gds.run_cypher(\"\"\"\n",
    "LOAD CSV with HEADERS FROM $path as row \n",
    "WITH row WHERE row.name is not null\n",
    "MERGE (n: Table { name: replace(row.name, '\"', '') }) \n",
    "SET n._uid = row._uid\n",
    "\"\"\",params={'path':data_location+'table_n0.csv'})\n",
    "\n",
    "gds.run_cypher(\"\"\"\n",
    "LOAD CSV with HEADERS FROM $path as row \n",
    "WITH row WHERE NOT row.`name` IS NULL\n",
    "MERGE (n: Datasource { name: replace(row.name, '\"', '') }) \n",
    "SET n._uid = row._uid;\n",
    "\"\"\",params={'path':data_location+'datasource_n1.csv'})\n",
    "\n",
    "\n",
    "gds.run_cypher(\"\"\"\n",
    "LOAD CSV with HEADERS FROM $path as row\n",
    "WITH row WHERE NOT row.`name` IS NULL\n",
    "MERGE (n: `Column` { `name`: replace(row.name, '\"', '')})\n",
    "SET n.`_uid` = row.`_uid`;\n",
    "\"\"\",params={'path':data_location+'column_n2.csv'})\n",
    "\n",
    "\n",
    "gds.run_cypher(\"\"\"\n",
    "LOAD CSV with HEADERS FROM $path as row\n",
    "with row WHERE NOT row.`name` IS NULL\n",
    "MERGE (n: `Team` { `name`: replace(row.name, '\"', '') })\n",
    "SET n.`_uid` = row.`_uid`;\n",
    "\"\"\",params={'path':data_location+'team_n3.csv'})\n",
    "\n",
    "gds.run_cypher(\"\"\"\n",
    "LOAD CSV with HEADERS FROM $path as row\n",
    "with row WHERE NOT row.`name` IS NULL\n",
    "MERGE (n: `User` { `name`: replace(row.name, '\"', '')})\n",
    "SET n.`_uid` = row.`_uid`;\n",
    "\"\"\",params={'path':data_location+'user_n4.csv'})\n",
    "\n",
    "gds.run_cypher(\"\"\"\n",
    "LOAD CSV with HEADERS FROM $path as row\n",
    "with row WHERE NOT row.`name` IS NULL\n",
    "MERGE (n: `Table` { `name`: replace(row.name, '\"', '')})\n",
    "SET n.`_uid` = row.`_uid`;\n",
    "\"\"\",params={'path':data_location+'table_n5.csv'})\n",
    "\n",
    "gds.run_cypher(\"\"\"\n",
    "LOAD CSV with HEADERS FROM $path as row\n",
    "MATCH (source: `Table` { `name`: replace(row._from_name, '\"', '')  })\n",
    "MATCH (target: `Column` { `name`: replace(row._to_name, '\"', '') })\n",
    "MERGE (source)-[r: `HAS_COLUMN`]->(target)\n",
    "SET r.`_uid` = row.`_uid`;\n",
    "\"\"\",params={'path':data_location+'table_has_column_column_n1.csv'})\n",
    "\n",
    "gds.run_cypher(\"\"\"\n",
    "LOAD CSV with HEADERS FROM $path as row\n",
    "MATCH (source: `Table` { `name`: replace(row._from_name, '\"', '') })\n",
    "MATCH (target: `Team` { `name`: replace(row._to_name, '\"', '') })\n",
    "MERGE (source)-[r: `OWNED_BY`]->(target)\n",
    "SET r.`_uid` = row.`_uid`;\n",
    "\"\"\",params={'path':data_location+'table_owned_by_team_n2.csv'})\n",
    "\n",
    "gds.run_cypher(\"\"\"\n",
    "LOAD CSV with HEADERS FROM $path as row\n",
    "MATCH (source: `Team` { `name`: replace(row._from_name, '\"', '') })\n",
    "MATCH (target: `User` { `name`: replace(row._to_name, '\"', '') })\n",
    "MERGE (source)-[r: `HAS_USER`]->(target)\n",
    "SET r.`_uid` = row.`_uid`;\n",
    "\"\"\",params={'path':data_location+'team_has_user_user_n3.csv'})\n",
    "\n",
    "gds.run_cypher(\"\"\"\n",
    "LOAD CSV with HEADERS FROM $path as row\n",
    "MATCH (source: `Table` { `name`: replace(row._from_name, '\"', '') })\n",
    "MATCH (target: `Datasource` { `name`: replace(row._to_name, '\"', '') })\n",
    "MERGE (source)-[r: `FROM_SOURCE`]->(target)\n",
    "SET r.`_uid` = row.`_uid`;\n",
    "\"\"\",params={'path':data_location+'table_from_source_datasource_n4.csv'})\n",
    "\n",
    "gds.run_cypher(\"\"\"\n",
    "LOAD CSV with HEADERS FROM $path as row\n",
    "MATCH (source: `Table` { `name`: replace(row._from_name, '\"', '') })\n",
    "MATCH (target: `Column` { `name`: replace(row._to_name, '\"', '')})\n",
    "MERGE (source)-[r: `HAS_COLUMN`]->(target)\n",
    "SET r.`_uid` = row.`_uid`;\n",
    "\"\"\",params={'path':data_location+'table_has_column_column_n5.csv'})\n",
    "\n",
    "gds.run_cypher(\"\"\"\n",
    "LOAD CSV with HEADERS FROM $path as row\n",
    "MATCH (source: `Table` { `name`: replace(row._from_name, '\"', '') })\n",
    "MATCH (target: `Team` { `name`: replace(row._to_name, '\"', '') })\n",
    "MERGE (source)-[r: `OWNED_BY`]->(target)\n",
    "SET r.`_uid` = row.`_uid`;\n",
    "\"\"\",params={'path':data_location+'table_owned_by_team_n6.csv'})\n",
    "\n",
    "gds.run_cypher(\"\"\"\n",
    "LOAD CSV with HEADERS FROM $path as row\n",
    "MATCH (source: `Table` { `name`: replace(row._from_name, '\"', '')  })\n",
    "MATCH (target: `Table` { `name`: replace(row._to_name, '\"', '') })\n",
    "MERGE (source)-[r: `DERIVED_FROM`]->(target)\n",
    "SET r.`_uid` = row.`_uid`;\n",
    "\"\"\",params={'path':data_location+'table_derived_from_table_n7.csv'})\n",
    "\n",
    "gds.run_cypher(\"\"\"\n",
    "LOAD CSV with HEADERS FROM $path as row\n",
    "MATCH (source: `User` { `name`: replace(row._from_name, '\"', '')  })\n",
    "MATCH (target: `Table` { `name`: replace(row._to_name, '\"', '') })\n",
    "MERGE (source)-[r: `HAS_ROLE`]->(target)\n",
    "SET r.`role` = row.`role`;\n",
    "\"\"\",params={'path':data_location+'user_has_role_table_n8.csv'})\n",
    "\n",
    "gds.run_cypher(\"\"\"\n",
    "LOAD CSV with HEADERS FROM $path as row\n",
    "MATCH (source: `User` { `name`: replace(row._from_name, '\"', '')  })\n",
    "MATCH (target: `Table` { `name`: replace(row._to_name, '\"', '')})\n",
    "MERGE (source)-[r: `HAS_ROLE`]->(target)\n",
    "SET r.`role` = row.`role`;\n",
    "\"\"\",params={'path':data_location+'user_has_role_table_n9.csv'})\n"
   ]
  },
  {
   "cell_type": "code",
   "execution_count": 52,
   "id": "398eb27e",
   "metadata": {
    "scrolled": true
   },
   "outputs": [
    {
     "name": "stdout",
     "output_type": "stream",
     "text": [
      "contract_end_date\n",
      "Products\n",
      "HR\n",
      "contract_end_date\n",
      "Products\n",
      "ERP\n",
      "contract_end_date\n",
      "Employees\n",
      "HR\n"
     ]
    }
   ],
   "source": [
    "cypher_query = \"match p=((c:Column {name:'contract_end_date'})-[:HAS_COLUMN]-(t:Table)--(s:Datasource)) return p\"\n",
    "\n",
    "# Execute the Cypher query and print out the returned paths\n",
    "with driver.session() as session:\n",
    "    result = session.run(cypher_query)\n",
    "    for record in result:\n",
    "        path = record[\"p\"]\n",
    "        \n",
    "        for node in path.nodes:\n",
    "            print(node['name'])\n",
    "        \n",
    "\n",
    "driver.close()"
   ]
  },
  {
   "cell_type": "code",
   "execution_count": 47,
   "id": "fc56bb06",
   "metadata": {},
   "outputs": [
    {
     "name": "stdout",
     "output_type": "stream",
     "text": [
      "Requirement already satisfied: matplotlib in /opt/homebrew/lib/python3.11/site-packages (3.7.1)\n",
      "Requirement already satisfied: contourpy>=1.0.1 in /opt/homebrew/lib/python3.11/site-packages (from matplotlib) (1.0.7)\n",
      "Requirement already satisfied: cycler>=0.10 in /opt/homebrew/lib/python3.11/site-packages (from matplotlib) (0.11.0)\n",
      "Requirement already satisfied: fonttools>=4.22.0 in /opt/homebrew/lib/python3.11/site-packages (from matplotlib) (4.39.4)\n",
      "Requirement already satisfied: kiwisolver>=1.0.1 in /opt/homebrew/lib/python3.11/site-packages (from matplotlib) (1.4.4)\n",
      "Requirement already satisfied: numpy>=1.20 in /opt/homebrew/lib/python3.11/site-packages (from matplotlib) (1.24.3)\n",
      "Requirement already satisfied: packaging>=20.0 in /opt/homebrew/lib/python3.11/site-packages (from matplotlib) (23.1)\n",
      "Requirement already satisfied: pillow>=6.2.0 in /opt/homebrew/lib/python3.11/site-packages (from matplotlib) (9.5.0)\n",
      "Requirement already satisfied: pyparsing>=2.3.1 in /opt/homebrew/lib/python3.11/site-packages (from matplotlib) (3.0.9)\n",
      "Requirement already satisfied: python-dateutil>=2.7 in /opt/homebrew/lib/python3.11/site-packages (from matplotlib) (2.8.2)\n",
      "Requirement already satisfied: six>=1.5 in /opt/homebrew/lib/python3.11/site-packages (from python-dateutil>=2.7->matplotlib) (1.16.0)\n",
      "Note: you may need to restart the kernel to use updated packages.\n"
     ]
    }
   ],
   "source": [
    "%pip install matplotlib"
   ]
  },
  {
   "cell_type": "markdown",
   "id": "667a6785",
   "metadata": {},
   "source": [
    "``Check Data Lineage``"
   ]
  },
  {
   "cell_type": "code",
   "execution_count": 53,
   "id": "9b91daca",
   "metadata": {
    "scrolled": true
   },
   "outputs": [
    {
     "data": {
      "image/png": "[encoded data removed]",
      "text/plain": [
       "<Figure size 640x480 with 1 Axes>"
      ]
     },
     "metadata": {},
     "output_type": "display_data"
    }
   ],
   "source": [
    "import networkx as nx\n",
    "import matplotlib.pyplot as plt\n",
    "\n",
    "graph = nx.Graph()\n",
    "\n",
    "for node in path.nodes:\n",
    "    graph.add_node(node['name'], label=node[\"label\"])  # Adjust the property key used for node labeling as per your data\n",
    "\n",
    "for rel in path.relationships:\n",
    "    graph.add_edge(rel.start_node['name'], rel.end_node['name'], label=rel.type)  # Adjust the property key used for relationship labeling as per your data\n",
    "\n",
    "# Visualize the graph using Matplotlib\n",
    "pos = nx.spring_layout(graph)\n",
    "labels = nx.get_node_attributes(graph, \"label\")\n",
    "edge_labels = nx.get_edge_attributes(graph, \"label\")\n",
    "\n",
    "nx.draw(graph, pos, with_labels=True, node_color=\"lightblue\", node_size=500, font_size=7)\n",
    "nx.draw_networkx_edge_labels(graph, pos, edge_labels=edge_labels)\n",
    "\n",
    "# Show the graph\n",
    "plt.show()\n"
   ]
  },
  {
   "cell_type": "markdown",
   "id": "f75ab559",
   "metadata": {},
   "source": [
    "## Finding Critical Data Assets by Degree Centrality"
   ]
  },
  {
   "cell_type": "markdown",
   "id": "683f960a",
   "metadata": {},
   "source": [
    "**Degree Centrality measures the number of connections or relationships a node has in a graph. In the context of data quality analysis, you can use Degree Centrality to identify metadata elements (nodes) that have a high number of relationships, indicating their significance or importance in the data ecosystem. Nodes with high Degree Centrality may represent critical tables, columns, or data entities that require careful attention and quality assessment.**"
   ]
  },
  {
   "cell_type": "code",
   "execution_count": 59,
   "id": "370db3e5",
   "metadata": {
    "scrolled": true
   },
   "outputs": [
    {
     "data": {
      "text/html": [
       "<div>\n",
       "<style scoped>\n",
       "    .dataframe tbody tr th:only-of-type {\n",
       "        vertical-align: middle;\n",
       "    }\n",
       "\n",
       "    .dataframe tbody tr th {\n",
       "        vertical-align: top;\n",
       "    }\n",
       "\n",
       "    .dataframe thead th {\n",
       "        text-align: right;\n",
       "    }\n",
       "</style>\n",
       "<table border=\"1\" class=\"dataframe\">\n",
       "  <thead>\n",
       "    <tr style=\"text-align: right;\">\n",
       "      <th></th>\n",
       "      <th>name</th>\n",
       "      <th>owners</th>\n",
       "    </tr>\n",
       "  </thead>\n",
       "  <tbody>\n",
       "    <tr>\n",
       "      <th>0</th>\n",
       "      <td>Orders_Summary</td>\n",
       "      <td>4.0</td>\n",
       "    </tr>\n",
       "    <tr>\n",
       "      <th>1</th>\n",
       "      <td>Products</td>\n",
       "      <td>3.0</td>\n",
       "    </tr>\n",
       "    <tr>\n",
       "      <th>2</th>\n",
       "      <td>Invoices</td>\n",
       "      <td>3.0</td>\n",
       "    </tr>\n",
       "    <tr>\n",
       "      <th>3</th>\n",
       "      <td>Customers</td>\n",
       "      <td>3.0</td>\n",
       "    </tr>\n",
       "    <tr>\n",
       "      <th>4</th>\n",
       "      <td>Customer_Summary</td>\n",
       "      <td>3.0</td>\n",
       "    </tr>\n",
       "  </tbody>\n",
       "</table>\n",
       "</div>"
      ],
      "text/plain": [
       "               name  owners\n",
       "0    Orders_Summary     4.0\n",
       "1          Products     3.0\n",
       "2          Invoices     3.0\n",
       "3         Customers     3.0\n",
       "4  Customer_Summary     3.0"
      ]
     },
     "execution_count": 59,
     "metadata": {},
     "output_type": "execute_result"
    }
   ],
   "source": [
    "gds.run_cypher(\"\"\"\n",
    "\n",
    "CALL gds.graph.drop('myGraph',false) YIELD graphName;\n",
    "\"\"\")\n",
    "\n",
    "gds.run_cypher(\"\"\"\n",
    "CALL gds.graph.project(\n",
    "  'myGraph',\n",
    "  ['Team','Table'],\n",
    "  {\n",
    "    OWNED_BY: {\n",
    "      orientation: 'NATURAL'\n",
    "    }\n",
    "  }\n",
    ")\n",
    "\"\"\")\n",
    "\n",
    "gds.run_cypher(\"\"\"\n",
    "CALL gds.degree.stream('myGraph')\n",
    "YIELD nodeId, score\n",
    "RETURN gds.util.asNode(nodeId).name AS name, score AS owners\n",
    "ORDER BY owners DESC, name DESC\n",
    "LIMIT 5\n",
    "\"\"\")\n"
   ]
  },
  {
   "cell_type": "markdown",
   "id": "cd4f0379",
   "metadata": {},
   "source": []
  }
 ],
 "metadata": {
  "celltoolbar": "Raw Cell Format",
  "kernelspec": {
   "display_name": "Python 3 (ipykernel)",
   "language": "python",
   "name": "python3"
  },
  "language_info": {
   "codemirror_mode": {
    "name": "ipython",
    "version": 3
   },
   "file_extension": ".py",
   "mimetype": "text/x-python",
   "name": "python",
   "nbconvert_exporter": "python",
   "pygments_lexer": "ipython3",
   "version": "3.11.2"
  }
 },
 "nbformat": 4,
 "nbformat_minor": 5
}
