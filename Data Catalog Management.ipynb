{
 "cells": [
  {
   "cell_type": "code",
   "execution_count": 29,
   "id": "575f43ae",
   "metadata": {
    "scrolled": true
   },
   "outputs": [
    {
     "name": "stdout",
     "output_type": "stream",
     "text": [
      "GDS Versoin: 2.3.3\n"
     ]
    }
   ],
   "source": [
    "from neo4j import GraphDatabase\n",
    "from graphdatascience import GraphDataScience\n",
    "\n",
    "# Configure Neo4j connection settings\n",
    "neo4j_url = \"neo4j+ssc://34.126.85.60:7687\"\n",
    "neo4j_user = \"neo4j\"\n",
    "neo4j_password = \"neo4j123\"\n",
    "neo4j_db = \"neo4j\"\n",
    "\n",
    "# Create a Neo4j driver and GDS driver\n",
    "driver = GraphDatabase.driver(neo4j_url, auth=(neo4j_user, neo4j_password),database=neo4j_db)\n",
    "gds = GraphDataScience(neo4j_url,auth=(neo4j_user,neo4j_password),database=neo4j_db)\n",
    "\n",
    "print(f\"GDS Version: {gds.version()}\")"
   ]
  },
  {
   "cell_type": "markdown",
   "id": "a9c91f1f",
   "metadata": {},
   "source": [
    "# Data Ingestion from CSVs"
   ]
  },
  {
   "cell_type": "code",
   "execution_count": 2,
   "id": "7c608ac4",
   "metadata": {
    "scrolled": false
   },
   "outputs": [
    {
     "data": {
      "text/html": [
       "<div>\n",
       "<style scoped>\n",
       "    .dataframe tbody tr th:only-of-type {\n",
       "        vertical-align: middle;\n",
       "    }\n",
       "\n",
       "    .dataframe tbody tr th {\n",
       "        vertical-align: top;\n",
       "    }\n",
       "\n",
       "    .dataframe thead th {\n",
       "        text-align: right;\n",
       "    }\n",
       "</style>\n",
       "<table border=\"1\" class=\"dataframe\">\n",
       "  <thead>\n",
       "    <tr style=\"text-align: right;\">\n",
       "      <th></th>\n",
       "    </tr>\n",
       "  </thead>\n",
       "  <tbody>\n",
       "  </tbody>\n",
       "</table>\n",
       "</div>"
      ],
      "text/plain": [
       "Empty DataFrame\n",
       "Columns: []\n",
       "Index: []"
      ]
     },
     "execution_count": 2,
     "metadata": {},
     "output_type": "execute_result"
    }
   ],
   "source": [
    "data_location = 'https://raw.githubusercontent.com/zhongjie526/neo4j_data_catalog/master/data/'\n",
    "\n",
    "gds.run_cypher(\"MATCH (n) DETACH DELETE n;\")\n",
    "gds.run_cypher(\"CREATE CONSTRAINT imp_uniq_tbl_name IF NOT EXISTS FOR (n: Table) REQUIRE (n.name) IS UNIQUE;\")\n",
    "gds.run_cypher(\"CREATE CONSTRAINT imp_uniq_ds_name IF NOT EXISTS FOR (n: Datasource) REQUIRE (n.name) IS UNIQUE;\")\n",
    "gds.run_cypher(\"CREATE CONSTRAINT imp_uniq_col_name IF NOT EXISTS FOR (n: Column) REQUIRE (n.name) IS UNIQUE;\")\n",
    "gds.run_cypher(\"CREATE CONSTRAINT imp_uniq_team_name IF NOT EXISTS FOR (n: Team) REQUIRE (n.name) IS UNIQUE;\")\n",
    "gds.run_cypher(\"CREATE CONSTRAINT imp_uniq_user_name IF NOT EXISTS FOR (n: User) REQUIRE (n.name) IS UNIQUE;\")\n",
    "\n",
    "gds.run_cypher(\"\"\"\n",
    "LOAD CSV with HEADERS FROM $path as row \n",
    "WITH row WHERE row.name is not null\n",
    "MERGE (n: Table { name: replace(row.name, '\"', '') }) \n",
    "SET n._uid = row._uid\n",
    "\"\"\",params={'path':data_location+'table_n0.csv'})\n",
    "\n",
    "gds.run_cypher(\"\"\"\n",
    "LOAD CSV with HEADERS FROM $path as row \n",
    "WITH row WHERE NOT row.`name` IS NULL\n",
    "MERGE (n: Datasource { name: replace(row.name, '\"', '') }) \n",
    "SET n._uid = row._uid;\n",
    "\"\"\",params={'path':data_location+'datasource_n1.csv'})\n",
    "\n",
    "\n",
    "gds.run_cypher(\"\"\"\n",
    "LOAD CSV with HEADERS FROM $path as row\n",
    "WITH row WHERE NOT row.`name` IS NULL\n",
    "MERGE (n: `Column` { `name`: replace(row.name, '\"', '')})\n",
    "SET n.`_uid` = row.`_uid`;\n",
    "\"\"\",params={'path':data_location+'column_n2.csv'})\n",
    "\n",
    "\n",
    "gds.run_cypher(\"\"\"\n",
    "LOAD CSV with HEADERS FROM $path as row\n",
    "with row WHERE NOT row.`name` IS NULL\n",
    "MERGE (n: `Team` { `name`: replace(row.name, '\"', '') })\n",
    "SET n.`_uid` = row.`_uid`;\n",
    "\"\"\",params={'path':data_location+'team_n3.csv'})\n",
    "\n",
    "gds.run_cypher(\"\"\"\n",
    "LOAD CSV with HEADERS FROM $path as row\n",
    "with row WHERE NOT row.`name` IS NULL\n",
    "MERGE (n: `User` { `name`: replace(row.name, '\"', '')})\n",
    "SET n.`_uid` = row.`_uid`;\n",
    "\"\"\",params={'path':data_location+'user_n4.csv'})\n",
    "\n",
    "gds.run_cypher(\"\"\"\n",
    "LOAD CSV with HEADERS FROM $path as row\n",
    "with row WHERE NOT row.`name` IS NULL\n",
    "MERGE (n: `Table` { `name`: replace(row.name, '\"', '')})\n",
    "SET n.`_uid` = row.`_uid`;\n",
    "\"\"\",params={'path':data_location+'table_n5.csv'})\n",
    "\n",
    "gds.run_cypher(\"\"\"\n",
    "LOAD CSV with HEADERS FROM $path as row\n",
    "MATCH (source: `Table` { `name`: replace(row._from_name, '\"', '')  })\n",
    "MATCH (target: `Column` { `name`: replace(row._to_name, '\"', '') })\n",
    "MERGE (source)-[r: `HAS_COLUMN`]->(target)\n",
    "SET r.`_uid` = row.`_uid`;\n",
    "\"\"\",params={'path':data_location+'table_has_column_column_n1.csv'})\n",
    "\n",
    "gds.run_cypher(\"\"\"\n",
    "LOAD CSV with HEADERS FROM $path as row\n",
    "MATCH (source: `Table` { `name`: replace(row._from_name, '\"', '') })\n",
    "MATCH (target: `Team` { `name`: replace(row._to_name, '\"', '') })\n",
    "MERGE (source)-[r: `OWNED_BY`]->(target)\n",
    "SET r.`_uid` = row.`_uid`;\n",
    "\"\"\",params={'path':data_location+'table_owned_by_team_n2.csv'})\n",
    "\n",
    "gds.run_cypher(\"\"\"\n",
    "LOAD CSV with HEADERS FROM $path as row\n",
    "MATCH (source: `Team` { `name`: replace(row._from_name, '\"', '') })\n",
    "MATCH (target: `User` { `name`: replace(row._to_name, '\"', '') })\n",
    "MERGE (source)-[r: `HAS_USER`]->(target)\n",
    "SET r.`_uid` = row.`_uid`;\n",
    "\"\"\",params={'path':data_location+'team_has_user_user_n3.csv'})\n",
    "\n",
    "gds.run_cypher(\"\"\"\n",
    "LOAD CSV with HEADERS FROM $path as row\n",
    "MATCH (source: `Table` { `name`: replace(row._from_name, '\"', '') })\n",
    "MATCH (target: `Datasource` { `name`: replace(row._to_name, '\"', '') })\n",
    "MERGE (source)-[r: `FROM_SOURCE`]->(target)\n",
    "SET r.`_uid` = row.`_uid`;\n",
    "\"\"\",params={'path':data_location+'table_from_source_datasource_n4.csv'})\n",
    "\n",
    "gds.run_cypher(\"\"\"\n",
    "LOAD CSV with HEADERS FROM $path as row\n",
    "MATCH (source: `Table` { `name`: replace(row._from_name, '\"', '') })\n",
    "MATCH (target: `Column` { `name`: replace(row._to_name, '\"', '')})\n",
    "MERGE (source)-[r: `HAS_COLUMN`]->(target)\n",
    "SET r.`_uid` = row.`_uid`;\n",
    "\"\"\",params={'path':data_location+'table_has_column_column_n5.csv'})\n",
    "\n",
    "gds.run_cypher(\"\"\"\n",
    "LOAD CSV with HEADERS FROM $path as row\n",
    "MATCH (source: `Table` { `name`: replace(row._from_name, '\"', '') })\n",
    "MATCH (target: `Team` { `name`: replace(row._to_name, '\"', '') })\n",
    "MERGE (source)-[r: `OWNED_BY`]->(target)\n",
    "SET r.`_uid` = row.`_uid`;\n",
    "\"\"\",params={'path':data_location+'table_owned_by_team_n6.csv'})\n",
    "\n",
    "gds.run_cypher(\"\"\"\n",
    "LOAD CSV with HEADERS FROM $path as row\n",
    "MATCH (source: `Table` { `name`: replace(row._from_name, '\"', '')  })\n",
    "MATCH (target: `Table` { `name`: replace(row._to_name, '\"', '') })\n",
    "MERGE (source)-[r: `DERIVED_FROM`]->(target)\n",
    "SET r.`_uid` = row.`_uid`;\n",
    "\"\"\",params={'path':data_location+'table_derived_from_table_n7.csv'})\n",
    "\n",
    "gds.run_cypher(\"\"\"\n",
    "LOAD CSV with HEADERS FROM $path as row\n",
    "MATCH (source: `User` { `name`: replace(row._from_name, '\"', '')  })\n",
    "MATCH (target: `Table` { `name`: replace(row._to_name, '\"', '') })\n",
    "MERGE (source)-[r: `HAS_ROLE`]->(target)\n",
    "SET r.`role` = row.`role`;\n",
    "\"\"\",params={'path':data_location+'user_has_role_table_n8.csv'})\n",
    "\n",
    "gds.run_cypher(\"\"\"\n",
    "LOAD CSV with HEADERS FROM $path as row\n",
    "MATCH (source: `User` { `name`: replace(row._from_name, '\"', '')  })\n",
    "MATCH (target: `Table` { `name`: replace(row._to_name, '\"', '')})\n",
    "MERGE (source)-[r: `HAS_ROLE`]->(target)\n",
    "SET r.`role` = row.`role`;\n",
    "\"\"\",params={'path':data_location+'user_has_role_table_n9.csv'})\n"
   ]
  },
  {
   "cell_type": "markdown",
   "id": "80ff9954",
   "metadata": {},
   "source": [
    "<img src=\"data_model.png\" alt=\"Data Model\" width=\"600\"/>\n",
    "\n",
    "`This is the graph data model we ended up building, it is simple but sufficient for our exploratory purposese.`"
   ]
  },
  {
   "cell_type": "code",
   "execution_count": 61,
   "id": "7bafbd98",
   "metadata": {},
   "outputs": [
    {
     "name": "stdout",
     "output_type": "stream",
     "text": [
      "Requirement already satisfied: matplotlib in /opt/homebrew/lib/python3.11/site-packages (3.7.1)\n",
      "Requirement already satisfied: contourpy>=1.0.1 in /opt/homebrew/lib/python3.11/site-packages (from matplotlib) (1.0.7)\n",
      "Requirement already satisfied: cycler>=0.10 in /opt/homebrew/lib/python3.11/site-packages (from matplotlib) (0.11.0)\n",
      "Requirement already satisfied: fonttools>=4.22.0 in /opt/homebrew/lib/python3.11/site-packages (from matplotlib) (4.39.4)\n",
      "Requirement already satisfied: kiwisolver>=1.0.1 in /opt/homebrew/lib/python3.11/site-packages (from matplotlib) (1.4.4)\n",
      "Requirement already satisfied: numpy>=1.20 in /opt/homebrew/lib/python3.11/site-packages (from matplotlib) (1.24.3)\n",
      "Requirement already satisfied: packaging>=20.0 in /opt/homebrew/lib/python3.11/site-packages (from matplotlib) (23.1)\n",
      "Requirement already satisfied: pillow>=6.2.0 in /opt/homebrew/lib/python3.11/site-packages (from matplotlib) (9.5.0)\n",
      "Requirement already satisfied: pyparsing>=2.3.1 in /opt/homebrew/lib/python3.11/site-packages (from matplotlib) (3.0.9)\n",
      "Requirement already satisfied: python-dateutil>=2.7 in /opt/homebrew/lib/python3.11/site-packages (from matplotlib) (2.8.2)\n",
      "Requirement already satisfied: six>=1.5 in /opt/homebrew/lib/python3.11/site-packages (from python-dateutil>=2.7->matplotlib) (1.16.0)\n",
      "Note: you may need to restart the kernel to use updated packages.\n",
      "Requirement already satisfied: networkx in /opt/homebrew/lib/python3.11/site-packages (3.1)\n",
      "Note: you may need to restart the kernel to use updated packages.\n"
     ]
    }
   ],
   "source": [
    "%pip install matplotlib\n",
    "%pip install networkx"
   ]
  },
  {
   "cell_type": "markdown",
   "id": "97b2de4f",
   "metadata": {},
   "source": [
    "### Check Data Lineage\n",
    "\n",
    "#### In the example before, we start with a random column name 'contract_end_date' and try to examine the data lineage of it using a simple Cypher query and visualize the output using the networkx and matplotlib librabries."
   ]
  },
  {
   "cell_type": "code",
   "execution_count": 5,
   "id": "47c6eb07",
   "metadata": {},
   "outputs": [
    {
     "data": {
      "image/png": "[encoded data removed]",
      "text/plain": [
       "<Figure size 432x288 with 1 Axes>"
      ]
     },
     "metadata": {},
     "output_type": "display_data"
    }
   ],
   "source": [
    "import networkx as nx\n",
    "import matplotlib.pyplot as plt\n",
    "\n",
    "\n",
    "plt.clf()\n",
    "with driver.session() as session:\n",
    "    result = session.run(\"match (c:Column {name:'contract_end_date'})-[r1:HAS_COLUMN]-(t:Table)-[r2:FROM_SOURCE]-(s:Datasource) return c,r1,t,r2,s\")\n",
    "\n",
    "    # Create a Network object\n",
    "    G = nx.Graph()\n",
    "\n",
    "    # Add the node to the network\n",
    "    for record in result:\n",
    "        node = record[\"c\"]\n",
    "        G.add_node(node.id, label=node[\"name\"], color=\"lightblue\")\n",
    "        node = record[\"t\"]\n",
    "        G.add_node(node.id, label=node[\"name\"], color=\"lightblue\")\n",
    "        node = record[\"s\"]\n",
    "        G.add_node(node.id, label=node[\"name\"], color=\"lightblue\")\n",
    "        rel = record[\"r1\"]\n",
    "        G.add_edge(rel.start_node.id, rel.end_node.id,label=rel.type)\n",
    "        rel = record[\"r2\"]\n",
    "        G.add_edge(rel.start_node.id, rel.end_node.id,label=rel.type)\n",
    "\n",
    "\n",
    "# Visualize the network\n",
    "pos = nx.spring_layout(G)\n",
    "labels = nx.get_node_attributes(G, \"label\")\n",
    "edge_labels = nx.get_edge_attributes(G, \"label\")\n",
    "\n",
    "nx.draw(G, pos, labels = labels,with_labels=True, node_color=\"lightblue\", node_size=500, font_size=7)\n",
    "nx.draw_networkx_edge_labels(G, pos, edge_labels=edge_labels)\n",
    "plt.show()"
   ]
  },
  {
   "cell_type": "markdown",
   "id": "a47a4b67",
   "metadata": {},
   "source": [
    "``As shown in the graph above, column \"contract_end_date\" may come from both Table \"Products\" and \"Emplyees\" which are data sources ERP and HR respectively``"
   ]
  },
  {
   "cell_type": "markdown",
   "id": "6e89a178",
   "metadata": {},
   "source": [
    "## Identifying Orphaned Data"
   ]
  },
  {
   "cell_type": "code",
   "execution_count": 26,
   "id": "e5c73510",
   "metadata": {},
   "outputs": [
    {
     "name": "stdout",
     "output_type": "stream",
     "text": [
      "Table name: Orphaned table with node id(122)\n"
     ]
    }
   ],
   "source": [
    "with driver.session() as session:\n",
    "    result = session.run(\"\"\"\n",
    "    MATCH (n:Table)\n",
    "    WHERE NOT EXISTS(()-->(n))\n",
    "    RETURN n\n",
    "    \"\"\")\n",
    "    \n",
    "    for record in result:\n",
    "        node= record[\"n\"]\n",
    "        print(\"Table name: \"+node[\"name\"]+\" with node id(\"+str(node.id)+\")\")"
   ]
  },
  {
   "cell_type": "markdown",
   "id": "f75ab559",
   "metadata": {},
   "source": [
    "## Finding Critical Data Assets by Degree Centrality"
   ]
  },
  {
   "cell_type": "markdown",
   "id": "683f960a",
   "metadata": {},
   "source": [
    "**Degree Centrality measures the number of connections or relationships a node has in a graph. In the context of data quality analysis, you can use Degree Centrality to identify metadata elements (nodes) that have a high number of relationships, indicating their significance or importance in the data ecosystem. Nodes with high Degree Centrality may represent critical tables, columns, or data entities that require careful attention and quality assessment.**"
   ]
  },
  {
   "cell_type": "code",
   "execution_count": 11,
   "id": "370db3e5",
   "metadata": {
    "scrolled": true
   },
   "outputs": [
    {
     "data": {
      "text/html": [
       "<div>\n",
       "<style scoped>\n",
       "    .dataframe tbody tr th:only-of-type {\n",
       "        vertical-align: middle;\n",
       "    }\n",
       "\n",
       "    .dataframe tbody tr th {\n",
       "        vertical-align: top;\n",
       "    }\n",
       "\n",
       "    .dataframe thead th {\n",
       "        text-align: right;\n",
       "    }\n",
       "</style>\n",
       "<table border=\"1\" class=\"dataframe\">\n",
       "  <thead>\n",
       "    <tr style=\"text-align: right;\">\n",
       "      <th></th>\n",
       "      <th>name</th>\n",
       "      <th>owners</th>\n",
       "    </tr>\n",
       "  </thead>\n",
       "  <tbody>\n",
       "    <tr>\n",
       "      <th>0</th>\n",
       "      <td>Orders_Summary</td>\n",
       "      <td>19.0</td>\n",
       "    </tr>\n",
       "    <tr>\n",
       "      <th>1</th>\n",
       "      <td>Customer_Summary</td>\n",
       "      <td>19.0</td>\n",
       "    </tr>\n",
       "    <tr>\n",
       "      <th>2</th>\n",
       "      <td>Products</td>\n",
       "      <td>13.0</td>\n",
       "    </tr>\n",
       "    <tr>\n",
       "      <th>3</th>\n",
       "      <td>Customers</td>\n",
       "      <td>12.0</td>\n",
       "    </tr>\n",
       "    <tr>\n",
       "      <th>4</th>\n",
       "      <td>Invoices</td>\n",
       "      <td>9.0</td>\n",
       "    </tr>\n",
       "  </tbody>\n",
       "</table>\n",
       "</div>"
      ],
      "text/plain": [
       "               name  owners\n",
       "0    Orders_Summary    19.0\n",
       "1  Customer_Summary    19.0\n",
       "2          Products    13.0\n",
       "3         Customers    12.0\n",
       "4          Invoices     9.0"
      ]
     },
     "execution_count": 11,
     "metadata": {},
     "output_type": "execute_result"
    }
   ],
   "source": [
    "gds.run_cypher(\"\"\"\n",
    "\n",
    "CALL gds.graph.drop('myGraph',false) YIELD graphName;\n",
    "\"\"\")\n",
    "\n",
    "\n",
    "gds.run_cypher(\"\"\"\n",
    "CALL gds.graph.project(\n",
    "  'myGraph',\n",
    "  ['Table','User'],\n",
    "  {\n",
    "    HAS_ROLE: {\n",
    "      orientation: 'REVERSE'\n",
    "    }\n",
    "  }\n",
    ")\n",
    "\"\"\")\n",
    "\n",
    "gds.run_cypher(\"\"\"\n",
    "CALL gds.degree.stream('myGraph')\n",
    "YIELD nodeId, score\n",
    "RETURN gds.util.asNode(nodeId).name AS name, score AS owners\n",
    "ORDER BY owners DESC, name DESC\n",
    "LIMIT 5\n",
    "\"\"\")\n"
   ]
  },
  {
   "cell_type": "markdown",
   "id": "63e0920e",
   "metadata": {},
   "source": [
    "## Identifying Duplicate Data\n",
    "\n",
    "### In the following example, we create an \"almost\" duplicate of a table by making them sharing 80% of the columns. Then we run Jaccard similarity score between all the tables based on their columns and return the results sorted descendingly by the Jaccard score."
   ]
  },
  {
   "cell_type": "code",
   "execution_count": 123,
   "id": "da07b35a",
   "metadata": {},
   "outputs": [
    {
     "data": {
      "text/html": [
       "<div>\n",
       "<style scoped>\n",
       "    .dataframe tbody tr th:only-of-type {\n",
       "        vertical-align: middle;\n",
       "    }\n",
       "\n",
       "    .dataframe tbody tr th {\n",
       "        vertical-align: top;\n",
       "    }\n",
       "\n",
       "    .dataframe thead th {\n",
       "        text-align: right;\n",
       "    }\n",
       "</style>\n",
       "<table border=\"1\" class=\"dataframe\">\n",
       "  <thead>\n",
       "    <tr style=\"text-align: right;\">\n",
       "      <th></th>\n",
       "      <th>table1</th>\n",
       "      <th>table2</th>\n",
       "      <th>similarity</th>\n",
       "    </tr>\n",
       "  </thead>\n",
       "  <tbody>\n",
       "    <tr>\n",
       "      <th>0</th>\n",
       "      <td>Products_Duplicate</td>\n",
       "      <td>Products</td>\n",
       "      <td>0.866667</td>\n",
       "    </tr>\n",
       "    <tr>\n",
       "      <th>1</th>\n",
       "      <td>Products</td>\n",
       "      <td>Customers</td>\n",
       "      <td>0.400000</td>\n",
       "    </tr>\n",
       "    <tr>\n",
       "      <th>2</th>\n",
       "      <td>Customer_Summary</td>\n",
       "      <td>Departments</td>\n",
       "      <td>0.333333</td>\n",
       "    </tr>\n",
       "  </tbody>\n",
       "</table>\n",
       "</div>"
      ],
      "text/plain": [
       "               table1       table2  similarity\n",
       "0  Products_Duplicate     Products    0.866667\n",
       "1            Products    Customers    0.400000\n",
       "2    Customer_Summary  Departments    0.333333"
      ]
     },
     "execution_count": 123,
     "metadata": {},
     "output_type": "execute_result"
    }
   ],
   "source": [
    "gds.run_cypher(\"\"\"\n",
    "match (t1:Table {name:\"Products_Duplicate\"}) detach delete t1\n",
    "\"\"\")\n",
    "\n",
    "gds.run_cypher(\"\"\"\n",
    "match (t:Table {name:\"Products\"})--(c:Column)  with c\n",
    "merge (t1:Table {name:\"Products_Duplicate\"})\n",
    "with t1,c, rand() as r\n",
    "where r>0.2\n",
    "merge (t1)-[:HAS_COLUMN]->(c)\n",
    "\"\"\")\n",
    "\n",
    "gds.run_cypher(\"\"\"\n",
    "MATCH (n1:Table)-[*..1]-(common:Column)\n",
    "WITH n1,COLLECT(DISTINCT common) AS set1\n",
    "MATCH (n2:Table)-[*..1]-(common:Column)\n",
    "where id(n1)<id(n2)\n",
    "WITH n1, set1, n2, COLLECT(DISTINCT common) AS set2\n",
    "WITH n1, set1, n2, apoc.coll.intersection(set1, set2) AS intersection,\n",
    "     apoc.coll.union(set1, set2) AS union\n",
    "with n1, n2, size(intersection)*1.0 / size(union) AS similarity order by similarity desc\n",
    "where similarity>0.3\n",
    "return n1.name as table1,n2.name as table2,similarity\n",
    "\"\"\")"
   ]
  },
  {
   "cell_type": "markdown",
   "id": "cd4f0379",
   "metadata": {},
   "source": [
    "`Surpringly, our mocked duplicate table ended up first on the rank!`"
   ]
  },
  {
   "cell_type": "code",
   "execution_count": null,
   "id": "89732c3e",
   "metadata": {},
   "outputs": [],
   "source": []
  }
 ],
 "metadata": {
  "celltoolbar": "Raw Cell Format",
  "kernelspec": {
   "display_name": "Python 3 (ipykernel)",
   "language": "python",
   "name": "python3"
  },
  "language_info": {
   "codemirror_mode": {
    "name": "ipython",
    "version": 3
   },
   "file_extension": ".py",
   "mimetype": "text/x-python",
   "name": "python",
   "nbconvert_exporter": "python",
   "pygments_lexer": "ipython3",
   "version": "3.11.2"
  }
 },
 "nbformat": 4,
 "nbformat_minor": 5
}
